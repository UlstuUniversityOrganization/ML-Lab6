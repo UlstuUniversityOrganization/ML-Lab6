{
 "cells": [
  {
   "cell_type": "code",
   "execution_count": 26,
   "metadata": {},
   "outputs": [],
   "source": [
    "import tensorflow as tf\n",
    "from keras.datasets import mnist\n",
    "from keras import layers, models\n",
    "import pandas as pd"
   ]
  },
  {
   "cell_type": "code",
   "execution_count": 38,
   "metadata": {},
   "outputs": [],
   "source": [
    "(x_train, y_train), (x_val, y_val) = mnist.load_data()\n",
    "\n",
    "x_train = x_train.astype('float32') / 255.0\n",
    "x_test = x_val.astype('float32') / 255.0\n",
    "\n",
    "num_classes = 10"
   ]
  },
  {
   "cell_type": "code",
   "execution_count": 39,
   "metadata": {},
   "outputs": [],
   "source": [
    "input_layer = layers.Input(shape=(28, 28, 1))\n",
    "conv_layer_1 = layers.Conv2D(filters=32, kernel_size=(3, 3), activation='relu')(input_layer)\n",
    "maxpooling_layer_1 = layers.MaxPooling2D(pool_size=(2, 2))(conv_layer_1)\n",
    "\n",
    "conv_layer_2 = layers.Conv2D(filters=64, kernel_size=(3, 3), activation='relu')(maxpooling_layer_1)\n",
    "maxpooling_layer_2 = layers.MaxPooling2D(pool_size=(2, 2))(conv_layer_2)\n",
    "\n",
    "conv_layer_3 = layers.Conv2D(filters=128, kernel_size=(3, 3), activation='relu')(maxpooling_layer_2)\n",
    "maxpooling_layer_3 = layers.MaxPooling2D(pool_size=(2, 2))(conv_layer_3)\n",
    "\n",
    "flatten_layer = layers.Flatten()(maxpooling_layer_3)\n",
    "dense_layer_1 = layers.Dense(units=flatten_layer.shape[1], activation='relu')(flatten_layer)\n",
    "output_layer = layers.Dense(num_classes, activation='softmax')(dense_layer_1)\n",
    "\n",
    "model = models.Model(inputs=[input_layer], outputs=[output_layer])\n",
    "model.compile(optimizer='adam', loss='categorical_crossentropy', metrics=['accuracy'])"
   ]
  },
  {
   "cell_type": "code",
   "execution_count": 43,
   "metadata": {},
   "outputs": [
    {
     "name": "stdout",
     "output_type": "stream",
     "text": [
      "Epoch 1/2\n",
      "469/469 [==============================] - 20s 42ms/step - loss: 0.0367 - accuracy: 0.9884 - val_loss: 22.8514 - val_accuracy: 0.9625\n",
      "Epoch 2/2\n",
      "469/469 [==============================] - 19s 41ms/step - loss: 0.0326 - accuracy: 0.9897 - val_loss: 14.6274 - val_accuracy: 0.9782\n"
     ]
    },
    {
     "data": {
      "text/plain": [
       "<keras.callbacks.History at 0x2b5294c0b50>"
      ]
     },
     "execution_count": 43,
     "metadata": {},
     "output_type": "execute_result"
    }
   ],
   "source": [
    "model.fit(x_train, y_train, epochs=2, batch_size=128, validation_data=(x_val, y_val))\n"
   ]
  },
  {
   "cell_type": "code",
   "execution_count": 44,
   "metadata": {},
   "outputs": [
    {
     "name": "stderr",
     "output_type": "stream",
     "text": [
      "WARNING:absl:Found untraced functions such as _jit_compiled_convolution_op, _jit_compiled_convolution_op, _jit_compiled_convolution_op, _update_step_xla while saving (showing 4 of 4). These functions will not be directly callable after loading.\n"
     ]
    },
    {
     "name": "stdout",
     "output_type": "stream",
     "text": [
      "INFO:tensorflow:Assets written to: ../models/1\\assets\n"
     ]
    },
    {
     "name": "stderr",
     "output_type": "stream",
     "text": [
      "INFO:tensorflow:Assets written to: ../models/1\\assets\n"
     ]
    }
   ],
   "source": [
    "model.save(\"../models/mnist_model\")"
   ]
  },
  {
   "cell_type": "code",
   "execution_count": 45,
   "metadata": {},
   "outputs": [
    {
     "name": "stdout",
     "output_type": "stream",
     "text": [
      "1875/1875 [==============================] - 8s 4ms/step\n"
     ]
    },
    {
     "data": {
      "text/plain": [
       "array([[2.74692375e-05, 8.50996514e-07, 1.93083764e-07, ...,\n",
       "        2.15353666e-07, 3.08452545e-05, 9.89058972e-05],\n",
       "       [9.99993443e-01, 6.46200704e-10, 1.80769284e-08, ...,\n",
       "        1.10874775e-10, 1.46264716e-08, 6.39224390e-06],\n",
       "       [9.84540111e-06, 2.66320167e-05, 7.03059732e-06, ...,\n",
       "        9.48890010e-05, 3.14686963e-06, 2.74871057e-03],\n",
       "       ...,\n",
       "       [2.00775681e-08, 5.54037838e-09, 1.12532139e-09, ...,\n",
       "        5.31752808e-10, 4.64396351e-07, 1.58142298e-04],\n",
       "       [7.44336518e-04, 1.38536655e-06, 1.15091029e-06, ...,\n",
       "        3.51919471e-09, 7.01102408e-06, 9.90579701e-06],\n",
       "       [2.94569967e-04, 6.34673611e-08, 1.12963188e-03, ...,\n",
       "        1.48737327e-05, 9.95841563e-01, 2.58838106e-03]], dtype=float32)"
      ]
     },
     "execution_count": 45,
     "metadata": {},
     "output_type": "execute_result"
    }
   ],
   "source": [
    "predictions = model.predict(x_train)\n",
    "predictions[0]"
   ]
  }
 ],
 "metadata": {
  "kernelspec": {
   "display_name": "Python 3",
   "language": "python",
   "name": "python3"
  },
  "language_info": {
   "codemirror_mode": {
    "name": "ipython",
    "version": 3
   },
   "file_extension": ".py",
   "mimetype": "text/x-python",
   "name": "python",
   "nbconvert_exporter": "python",
   "pygments_lexer": "ipython3",
   "version": "3.11.4"
  }
 },
 "nbformat": 4,
 "nbformat_minor": 2
}
